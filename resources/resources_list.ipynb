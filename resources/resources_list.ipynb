{
  "nbformat": 4,
  "nbformat_minor": 0,
  "metadata": {
    "colab": {
      "name": "resources_list.ipynb",
      "provenance": [],
      "collapsed_sections": [],
      "authorship_tag": "ABX9TyNCPvuficFRQFRuAOEll4gS",
      "include_colab_link": true
    },
    "kernelspec": {
      "name": "python3",
      "display_name": "Python 3"
    }
  },
  "cells": [
    {
      "cell_type": "markdown",
      "metadata": {
        "id": "view-in-github",
        "colab_type": "text"
      },
      "source": [
        "<a href=\"https://colab.research.google.com/github/rostikmakhanko/handwritten-text-recognition/blob/master/resources/resources_list.ipynb\" target=\"_parent\"><img src=\"https://colab.research.google.com/assets/colab-badge.svg\" alt=\"Open In Colab\"/></a>"
      ]
    },
    {
      "cell_type": "markdown",
      "metadata": {
        "id": "QPgjdKlx7KDi",
        "colab_type": "text"
      },
      "source": [
        "# Useful resources\n",
        "\n",
        "---\n",
        "\n",
        "\n",
        "* *R. Reeve Ingle, Yasuhisa Fujii, Thomas Deselaers, Jonathan Baccash, Ashok C. Popat* - [A Scalable Handwritten Text Recognition System](https://arxiv.org/pdf/1904.09150.pdf) -  **Google Research 14 Jun 2019**\n",
        "* *Harald Scheidl* - [Build a Handwritten Text Recognition System using TensorFlow](https://towardsdatascience.com/build-a-handwritten-text-recognition-system-using-tensorflow-2326a3487cd5) -  **Towards Data Science Jun 15, 2018**\n",
        "* *Nikhil Thorat and Daniel Smilkov* - [Machine Learning in JavaScript](https://www.youtube.com/watch?v=YB-kfeNIPCE) -- **TensorFlow Dev Summit 2018**\n",
        "\n",
        "\n"
      ]
    }
  ]
}