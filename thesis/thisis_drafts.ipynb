{
  "nbformat": 4,
  "nbformat_minor": 0,
  "metadata": {
    "colab": {
      "name": "thisis_drafts.ipynb",
      "provenance": [],
      "authorship_tag": "ABX9TyNAFesxl6SU92h8hq99h6Pa",
      "include_colab_link": true
    },
    "kernelspec": {
      "name": "python3",
      "display_name": "Python 3"
    }
  },
  "cells": [
    {
      "cell_type": "markdown",
      "metadata": {
        "id": "view-in-github",
        "colab_type": "text"
      },
      "source": [
        "<a href=\"https://colab.research.google.com/github/rostikmakhanko/handwritten-text-recognition/blob/master/thesis/thisis_drafts.ipynb\" target=\"_parent\"><img src=\"https://colab.research.google.com/assets/colab-badge.svg\" alt=\"Open In Colab\"/></a>"
      ]
    },
    {
      "cell_type": "markdown",
      "metadata": {
        "id": "kQ-AzZW-iKPg",
        "colab_type": "text"
      },
      "source": [
        "# Introduction\n",
        "\n",
        "> First of all lets look on a problem of handwritten text recognition without any particular connections to technologies. In ancient times people used to paint animals or nature signs on the walls of caves to save notifications to other people. Than they realized that better idea is to use some determined list of symbols. ..."
      ]
    },
    {
      "cell_type": "markdown",
      "metadata": {
        "id": "6coTpu1Sid4z",
        "colab_type": "text"
      },
      "source": [
        "# Thesis roadmap\n",
        "*Based on [Cassie Kozyrkov's 12 Steps to Applied AI](https://medium.com/swlh/12-steps-to-applied-ai-2fdad7fdcdf3)*\n",
        "![alt text](https://miro.medium.com/max/1400/1*DWpwjk-yqNliqQlkqBKfUw.jpeg)\n",
        "0. Reality check(is this problem actually exists, needs and could to be solved).\n",
        "1. Define what is success for my project.\n",
        "2. Get data. Research for exists data sets. Decide how it could be improved.\n",
        "3. Split data into three datasets: training, validation, and test.\n",
        "4. Analyze part of the data with some plots. Make changes based on analysis. Choose algorithms and models.\n",
        "5. Prepare machine learning tools. Transform data to appropriate format.\n",
        "6. Use tools to train models.\n",
        "7. Debug, analyze, and tune prepared data and models. Try to find what's going wrong.\n",
        "8. Validate models(does they works for the data).\n",
        "9. Test the model. The moment where [statistics](https://towardsdatascience.com/statistics-for-people-in-a-hurry-a9613c0ed0b) comes.\n",
        "10. Build a system(UI or API) and integrate models in it. \n",
        "11. Test what was built so far. Launch on servers or build setups.\n",
        "12. Give to users(relatives, friends, teachers).\n"
      ]
    }
  ]
}