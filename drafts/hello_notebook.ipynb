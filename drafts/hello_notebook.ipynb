{
  "nbformat": 4,
  "nbformat_minor": 0,
  "metadata": {
    "colab": {
      "name": "hello_notebook.ipynb",
      "provenance": [],
      "authorship_tag": "ABX9TyP+mcqKzgSCGQ7yOsE7Dfr8",
      "include_colab_link": true
    },
    "kernelspec": {
      "name": "python3",
      "display_name": "Python 3"
    }
  },
  "cells": [
    {
      "cell_type": "markdown",
      "metadata": {
        "id": "view-in-github",
        "colab_type": "text"
      },
      "source": [
        "<a href=\"https://colab.research.google.com/github/rostikmakhanko/handwritten-text-recognition/blob/master/drafts/hello_notebook.ipynb\" target=\"_parent\"><img src=\"https://colab.research.google.com/assets/colab-badge.svg\" alt=\"Open In Colab\"/></a>"
      ]
    },
    {
      "cell_type": "code",
      "metadata": {
        "id": "0aV61m1AGnWL",
        "colab": {
          "base_uri": "https://localhost:8080/",
          "height": 34
        },
        "outputId": "cab247f3-41e7-4a48-ddd1-c9f2282e4744"
      },
      "source": [
        "print('Hello')"
      ],
      "execution_count": null,
      "outputs": [
        {
          "output_type": "stream",
          "text": [
            "Hello\n"
          ],
          "name": "stdout"
        }
      ]
    },
    {
      "cell_type": "code",
      "metadata": {
        "id": "miUHRdEnuJTG",
        "outputId": "50273e42-3842-43b4-c25c-42c4432dd160",
        "colab": {
          "base_uri": "https://localhost:8080/"
        }
      },
      "source": [
        "print('👋')"
      ],
      "execution_count": 1,
      "outputs": [
        {
          "output_type": "stream",
          "text": [
            "👋\n"
          ],
          "name": "stdout"
        }
      ]
    }
  ]
}